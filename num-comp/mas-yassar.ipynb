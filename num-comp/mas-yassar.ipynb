{
 "cells": [
  {
   "cell_type": "code",
   "execution_count": 3,
   "metadata": {},
   "outputs": [
    {
     "ename": "TypeError",
     "evalue": "only integer scalar arrays can be converted to a scalar index",
     "output_type": "error",
     "traceback": [
      "\u001b[0;31m---------------------------------------------------------------------------\u001b[0m",
      "\u001b[0;31mTypeError\u001b[0m                                 Traceback (most recent call last)",
      "Cell \u001b[0;32mIn[3], line 14\u001b[0m\n\u001b[1;32m     11\u001b[0m \u001b[38;5;28;01mdef\u001b[39;00m \u001b[38;5;21mapproxEquation\u001b[39m(x) :\n\u001b[1;32m     12\u001b[0m     \u001b[38;5;28;01mreturn\u001b[39;00m (\u001b[38;5;241m1\u001b[39m \u001b[38;5;241m+\u001b[39m x)\n\u001b[0;32m---> 14\u001b[0m \u001b[38;5;28;01mfor\u001b[39;00m i \u001b[38;5;129;01min\u001b[39;00m \u001b[38;5;28;43mrange\u001b[39;49m\u001b[43m(\u001b[49m\u001b[43mx\u001b[49m\u001b[43m)\u001b[49m :\n\u001b[1;32m     15\u001b[0m     true_error \u001b[38;5;241m=\u001b[39m (realEquation(i) \u001b[38;5;241m-\u001b[39m approxEquation(i)) \u001b[38;5;241m/\u001b[39m (realEquation(i)) \u001b[38;5;241m*\u001b[39m \u001b[38;5;241m100\u001b[39m\n\u001b[1;32m     17\u001b[0m     \u001b[38;5;28mprint\u001b[39m(true_error)\n",
      "\u001b[0;31mTypeError\u001b[0m: only integer scalar arrays can be converted to a scalar index"
     ]
    }
   ],
   "source": [
    "import matplotlib.pyplot as plt\n",
    "import numpy as np\n",
    "import math\n",
    "import pandas as pd\n",
    "\n",
    "x = np.arange(0, 1, 0.1)\n",
    "\n",
    "def realEquation(x) :\n",
    "    return math.e**x\n",
    "\n",
    "def approxEquation(x) :\n",
    "    return (1 + x)\n",
    "\n",
    "for i in x :\n",
    "    true_error = (realEquation(i) - approxEquation(i)) / (realEquation(i)) * 100\n",
    "\n",
    "    print(true_error)\n",
    "\n",
    "# plt.title(\"Grafik Persamaan Sesungguhnya dan Persamaan Aproksimasi\")\n",
    "# plt.plot(x, persamaan1, color=\"red\")\n",
    "# plt.plot(x, persamaan2, color=\"green\")\n",
    "\n",
    "# plt.grid(True)\n",
    "\n",
    "# plt.show()\n",
    "\n"
   ]
  }
 ],
 "metadata": {
  "kernelspec": {
   "display_name": ".venv",
   "language": "python",
   "name": "python3"
  },
  "language_info": {
   "codemirror_mode": {
    "name": "ipython",
    "version": 3
   },
   "file_extension": ".py",
   "mimetype": "text/x-python",
   "name": "python",
   "nbconvert_exporter": "python",
   "pygments_lexer": "ipython3",
   "version": "3.10.12"
  }
 },
 "nbformat": 4,
 "nbformat_minor": 2
}
