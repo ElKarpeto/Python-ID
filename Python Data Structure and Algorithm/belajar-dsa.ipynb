{
 "cells": [
  {
   "cell_type": "markdown",
   "metadata": {},
   "source": [
    "# Data Structures and Algorithms"
   ]
  },
  {
   "cell_type": "code",
   "execution_count": 22,
   "metadata": {},
   "outputs": [
    {
     "name": "stdout",
     "output_type": "stream",
     "text": [
      "[1, 4, 2, 5, 6, 9, 12, 56, 3, 32, 7]\n"
     ]
    }
   ],
   "source": [
    "# make an unique list\n",
    "\n",
    "def unique(array):\n",
    "    u_list = []\n",
    "    for x in array:\n",
    "        if x not in u_list:\n",
    "            u_list.append(x)\n",
    "    \n",
    "    return u_list\n",
    "\n",
    "array = [1,4,2,5,6,9,12,56,9,3,12,6,9,32,4,9,3,7,2]\n",
    "print(unique(array))\n",
    "\n"
   ]
  },
  {
   "attachments": {},
   "cell_type": "markdown",
   "metadata": {},
   "source": [
    "## Linear-Binary Search and Sorting Algorithm"
   ]
  },
  {
   "cell_type": "markdown",
   "metadata": {},
   "source": [
    "### Problems 1, Searching a Cards"
   ]
  },
  {
   "attachments": {},
   "cell_type": "markdown",
   "metadata": {},
   "source": [
    "#### Linear Search"
   ]
  },
  {
   "cell_type": "code",
   "execution_count": 23,
   "metadata": {},
   "outputs": [
    {
     "name": "stdout",
     "output_type": "stream",
     "text": [
      "position of number 7 is in index 4\n"
     ]
    }
   ],
   "source": [
    "# Linear Search\n",
    "\n",
    "a = [13, 11, 10, 7, 4, 3, 1, 0]\n",
    "a.sort()\n",
    "query = int(input(\"number of card : \"))\n",
    "\n",
    "i = 0\n",
    "while i < len(a) :\n",
    "  if (a[i] == query) :\n",
    "    print(f'position of number {query} is in index {i}')\n",
    "  i += 1"
   ]
  },
  {
   "attachments": {},
   "cell_type": "markdown",
   "metadata": {},
   "source": [
    "#### Binary Search\n",
    "1. sorting list kita dari kecil -> besar (`0 -> n`)\n",
    "2. temukan nilai tengah dari list\n",
    "3. bila nilai tengah adalah yang kita cari, return nilai tengah itu\n",
    "4. bila nilai tengah lebih besar dari apa yang kita cari, search setengah pertama list\n",
    "5. bila nilai tengah lebih kecil dari apa yang kita cari, search setengah kedua list\n",
    "6. bila tidak ada, return `None`"
   ]
  },
  {
   "cell_type": "code",
   "execution_count": 24,
   "metadata": {},
   "outputs": [
    {
     "data": {
      "text/plain": [
       "10"
      ]
     },
     "execution_count": 24,
     "metadata": {},
     "output_type": "execute_result"
    }
   ],
   "source": [
    "# Binary Search\n",
    "\n",
    "b = [1, 4, 2, 5, 6, 9, 12, 56, 3, 32, 7]\n",
    "b.sort() # kita buat b berurutan, agar Binary Search kita menjadi lebih mudah\n",
    "\n",
    "def locate(cards, query) :\n",
    "    \n",
    "    lo, hi = 0, (len(cards) - 1)\n",
    "    \n",
    "    while lo <= hi :\n",
    "        mid = (lo + hi) // 2\n",
    "        mid_number = cards[mid]\n",
    "        \n",
    "        if mid_number == query :\n",
    "            return mid\n",
    "        elif mid_number < query :\n",
    "            lo = mid + 1\n",
    "        elif mid_number > query :\n",
    "            hi = mid - 1\n",
    "    \n",
    "    return -1\n",
    "\n",
    "\n",
    "locate(b, 56) # pada saat menginput data, input dengan list yang sudah di sort() method"
   ]
  },
  {
   "cell_type": "code",
   "execution_count": 25,
   "metadata": {},
   "outputs": [
    {
     "data": {
      "text/plain": [
       "6"
      ]
     },
     "execution_count": 25,
     "metadata": {},
     "output_type": "execute_result"
    }
   ],
   "source": [
    "# Binary Search\n",
    "# kita buat ini menjadi lebih baik\n",
    "\n",
    "b = [1, 4, 2, 5, 6, 9, 12, 56, 3, 32, 7] # tidak boleh ada element yang sama\n",
    "b.sort()\n",
    "\n",
    "def location_test(cards, query, mid) :\n",
    "    mid_number = cards[mid] # middle of cards\n",
    "    \n",
    "    if mid_number == query :\n",
    "        if (mid - 1 >= 0) and (cards[mid - 1] == query) : \n",
    "            return 'right'\n",
    "        else :\n",
    "            return 'found'\n",
    "        \n",
    "    elif mid_number < query :\n",
    "        return 'right'\n",
    "    \n",
    "    else :\n",
    "        return 'left'\n",
    "    \n",
    "def binarySearch(cards, query) :\n",
    "    \n",
    "    lo, hi = 0, (len(cards) - 1)\n",
    "    \n",
    "    while lo <= hi :\n",
    "        mid = (lo + hi) // 2\n",
    "        result = location_test(cards, query, mid)\n",
    "        \n",
    "        if result == 'found' :\n",
    "            return mid\n",
    "        elif result == 'right' :\n",
    "            lo = mid + 1\n",
    "        elif result == 'left' :\n",
    "            hi = mid - 1\n",
    "    \n",
    "    return -1\n",
    "\n",
    "binarySearch(b, 7)"
   ]
  },
  {
   "cell_type": "markdown",
   "metadata": {},
   "source": [
    "### Problem 2, Sorting a Cards"
   ]
  },
  {
   "attachments": {},
   "cell_type": "markdown",
   "metadata": {},
   "source": [
    "#### Bubble Sort\n",
    "asumsikan kita punya list dengan n element\n",
    "1. nilai `i` akan bernilai `n - 1 -> 1`\n",
    "2. nilai `j` akan bernilai `0 -> n - 2`, dengan `j1 = 0 -> n - 2`, `j2 = 0 -> n - 3`, dst\n",
    "3. bila `list[j] > list[j + 1]`, maka `list[j + 1] = list[j]` dan `list[j] = list[j + 1]`"
   ]
  },
  {
   "cell_type": "code",
   "execution_count": 21,
   "metadata": {},
   "outputs": [
    {
     "name": "stdout",
     "output_type": "stream",
     "text": [
      "[1, 1, 1, 2, 2, 3, 4, 4, 4, 5, 6, 6, 19, 21, 23, 30, 40, 45, 68, 71, 99]\n"
     ]
    }
   ],
   "source": [
    "def bubbleSort(cards) :\n",
    "    for i in range((len(cards) - 1), 0, -1) :\n",
    "        for j in range(i) :\n",
    "            if cards[j] > cards[j + 1]:\n",
    "                cards[j], cards[j + 1] = cards[j + 1], cards[j]\n",
    "\n",
    "x = [1,4,5,6,2,1,30,19,40,71,21,4, 99, 2, 4, 68, 23, 1, 3,45 ,6]\n",
    "bubbleSort(x)\n",
    "print(x)"
   ]
  },
  {
   "attachments": {},
   "cell_type": "markdown",
   "metadata": {},
   "source": [
    "#### Insertion Sort\n",
    "asumsikan kita mempunyai list dengan n element\n",
    "1. nilai `i` akan bernilai `1 -> n - 1`\n",
    "2. kita buat variabel penyimpan (save) dimana itu menyimpan element ke-`i` list\n",
    "3. nilai `j` pertama akan bernilai `i - 1`\n",
    "4. kita cek, bila `j >= 0` dan `save < list[j]` maka `list[j + 1] = list[j]` sampai `j < 0`\n",
    "5. setelah itu semua, `list[j + 1] = save`"
   ]
  },
  {
   "cell_type": "code",
   "execution_count": 16,
   "metadata": {},
   "outputs": [
    {
     "name": "stdout",
     "output_type": "stream",
     "text": [
      "[1, 1, 1, 2, 2, 3, 4, 4, 4, 5, 6, 6, 19, 21, 23, 30, 40, 45, 68, 71, 99, 100]\n"
     ]
    }
   ],
   "source": [
    "def insertion_sort(cards) : \n",
    "  for i in range(1, len(cards)) :\n",
    "    save = cards[i]\n",
    "    j = i - 1\n",
    "\n",
    "    while (j >= 0) and (save < cards[j]) :\n",
    "      cards[j + 1] = cards[j]\n",
    "      j -= 1\n",
    "\n",
    "    cards[j + 1] = save\n",
    "\n",
    "\n",
    "x = [1, 4, 5, 6, 2, 1, 30, 19, 40, 71, 21, 4, 99, 2, 4, 68, 23, 1, 3, 45, 6, 100]\n",
    "insertion_sort(x)\n",
    "print(x)"
   ]
  },
  {
   "attachments": {},
   "cell_type": "markdown",
   "metadata": {},
   "source": [
    "#### Merge Sort\n",
    "asumsikan kita punya list dengan n element\n",
    "method ini menggunakan rekursi\n",
    "1. pada function pertama, kita bagi element list menjadi 2\n",
    "2. selama `len(kiri)` dan `len(kanan) <= 1`, maka kita bagi terus sampai element kedua list bernilai 1\n",
    "3. pada function kedua, kita deklarasi variabel dengan list kosong (`gabungan`)\n",
    "4. kita cek, selama `len(kiri)` dan `len(kanan)` tidak 0\n",
    "5. jika `kiri[0] < kanan[0]`, maka gabungkan `kiri[0]` ke gabungan dan hapus `kiri[0]` dari list kiri\n",
    "6. jika tidak, maka gabungkan `kanan[0]` ke gabungan dan hapus `kanan[0]` dari list kanan\n",
    "7. kita cek, jika `len(kiri) == 0`, maka gabungan akan di tambah dengan kanan\n",
    "8. jika tidak, maka gabungan akan di tambah dengan kiri\n",
    "9. masukan function kedua ke return funtion pertama dengan membuatnya menjadi `list()`"
   ]
  },
  {
   "cell_type": "code",
   "execution_count": 15,
   "metadata": {},
   "outputs": [
    {
     "name": "stdout",
     "output_type": "stream",
     "text": [
      "[1, 1, 1, 2, 2, 3, 3, 4, 4, 4, 5, 6, 6, 19, 21, 23, 30, 40, 45, 47, 68, 71, 105]\n"
     ]
    }
   ],
   "source": [
    "def merge_sort(cards) :\n",
    "  if len(cards) <= 1 :\n",
    "    return cards\n",
    "\n",
    "  mid = len(cards) // 2\n",
    "  left = cards[:mid]\n",
    "  right = cards[mid:]\n",
    "\n",
    "  left = merge_sort(left)\n",
    "  right = merge_sort(right)\n",
    "\n",
    "  return list(merge(left, right))\n",
    "\n",
    "def merge(left, right) :\n",
    "  gabungan = []\n",
    "\n",
    "  while (len(left) != 0) and (len(right) != 0) :\n",
    "    if left[0] < right[0] :\n",
    "      gabungan.append(left[0])\n",
    "      left.remove(left[0])\n",
    "    else :\n",
    "      gabungan.append(right[0])\n",
    "      right.remove(right[0])\n",
    "\n",
    "  if len(left) == 0 :\n",
    "    gabungan += right\n",
    "  else :\n",
    "    gabungan += left\n",
    "  \n",
    "  return gabungan\n",
    "\n",
    "\n",
    "x = [1, 4, 5, 6, 2, 1, 30, 19, 40, 71, 21, 4, 3, 2, 4, 68, 23, 1, 3, 45, 6, 47, 105]\n",
    "print(merge_sort(x))"
   ]
  },
  {
   "attachments": {},
   "cell_type": "markdown",
   "metadata": {},
   "source": [
    "#### Shell Sort\n",
    "asumsikan kita puya list dengan `n` element\n",
    "1. kita deklarasi gap dengan gap adalah `n // 2`\n",
    "2. selama `gap > 0`, maka dengan `i` bernilai `gap -> n - 1` kita deklarasikan variable penyimpan (`save`)\n",
    "3. save bernilai `list[i]`\n",
    "4. dengan `j = i`, maka selama `j >= gap` dan `list[j - gap] > save`, `list[j] = list[j - gap]` dengan `j = j - 1`\n",
    "5. setelah itu `list[j] = save` dan `gap = gap // 2`"
   ]
  },
  {
   "cell_type": "code",
   "execution_count": 29,
   "metadata": {},
   "outputs": [
    {
     "name": "stdout",
     "output_type": "stream",
     "text": [
      "[1, 1, 2, 3, 4, 4, 4, 4, 4, 6, 19, 19, 19, 30, 30, 30, 30, 40, 40, 40, 45]\n"
     ]
    }
   ],
   "source": [
    "def shell_sort(cards) :\n",
    "  gap = len(cards) // 2\n",
    "\n",
    "  while gap > 0 :\n",
    "    for i in range(gap, len(cards)) :\n",
    "      save = cards[i]\n",
    "      j = i\n",
    "\n",
    "      while (j >= gap) and (cards[j - gap] > save) :\n",
    "        cards[j] = cards[j - gap]\n",
    "        j -= 1\n",
    "      \n",
    "      cards[j] = save\n",
    "    \n",
    "    gap //= 2\n",
    "\n",
    "\n",
    "x = [1, 4, 5, 6, 2, 1, 30, 19, 40, 71, 21, 4, 3, 2, 4, 68, 23, 1, 3, 45, 6]\n",
    "shell_sort(x)\n",
    "print(x)"
   ]
  },
  {
   "attachments": {},
   "cell_type": "markdown",
   "metadata": {},
   "source": [
    "#### Selection Sort\n",
    "asumsikan kita mempunyai list dengan n element\n",
    "1. nilai `i` akan bernilai `0 -> n - 1`\n",
    "2. kita deklarasikan variable (`min_index`) yang menyimpan nilai `i`\n",
    "3. nilai `j` akan bernilai `i + 1 -> n - 1` dengan `1 -> n - 1`, `2 -> n - 1`, dst\n",
    "4. kita cek, jika `list[j] < list[min_index]` maka `min_index = j`\n",
    "5. setelah itu kita ganti `list[i] = list[min_index]` dan `list[min_index] = list[i]` di dalam for loop pertama"
   ]
  },
  {
   "cell_type": "code",
   "execution_count": 30,
   "metadata": {},
   "outputs": [
    {
     "name": "stdout",
     "output_type": "stream",
     "text": [
      "[1, 1, 1, 2, 2, 3, 3, 4, 4, 4, 5, 6, 6, 19, 21, 23, 30, 40, 45, 68, 71]\n"
     ]
    }
   ],
   "source": [
    "def selection_sort(cards) :\n",
    "  for i in range(len(cards)) :\n",
    "    min_index = i\n",
    "    for j in range(i + 1, len(cards)) :\n",
    "      if cards[j] < cards[min_index] :\n",
    "        min_index = j\n",
    "      \n",
    "    cards[i], cards[min_index] = cards[min_index], cards[i]\n",
    "\n",
    "\n",
    "x = [1, 4, 5, 6, 2, 1, 30, 19, 40, 71, 21, 4, 3, 2, 4, 68, 23, 1, 3, 45, 6]\n",
    "selection_sort(x)\n",
    "print(x)\n"
   ]
  },
  {
   "attachments": {},
   "cell_type": "markdown",
   "metadata": {},
   "source": [
    "#### Quick Sort\n",
    "Asumsikan kita memiliki list dengan n element\n",
    "metode ini sebenernya perlu 3 parameter, cuman kalo kita pengen sort semua element list kita cuman perlu input 1 argument\n",
    "1. pada 2 function kita set 3 parameter, `start` punya default parameter `None` dan `end` punya default parameter `None`\n",
    "2. pada function `partition` kita set pointer variable `l = start` dan `r = end - 1`\n",
    "3. selama `l < r`, jika `cards[l] <= cards[end]` maka `l += 1`, lain jika `cards[r] > cards[end]` maka `r -= 1` dan jika tidak kita ganti `cards[l] = cards[r]` dan `cards[r] = cards[l]`\n",
    "4. jika `cards[l] > cards[end]` maka kita ganti `cards[l] = cards[end]` dan `cards[end] = cards[l]` dan kita return `l`. jika tidak kita return `end`\n",
    "6. pada function `quickSort`, jika `start < end` maka kita set `pivot = partition(cards, start, end)`, kita rekursi `quickSort(cards, start, pivot - 1)` dan `quickSort(cards, pivot + 1, end)`"
   ]
  },
  {
   "cell_type": "code",
   "execution_count": 14,
   "metadata": {},
   "outputs": [
    {
     "name": "stdout",
     "output_type": "stream",
     "text": [
      "[1, 1, 1, 2, 2, 3, 3, 4, 4, 4, 5, 6, 6, 19, 21, 23, 30, 40, 45, 68, 71, 100]\n"
     ]
    }
   ],
   "source": [
    "def quickSort(cards, start=None, end=None) :\n",
    "    if end == None :\n",
    "        end = len(cards) - 1\n",
    "    \n",
    "    if start is None :\n",
    "        start = 0\n",
    "\n",
    "    if start < end :\n",
    "        pivot = partition(cards, start, end)\n",
    "        quickSort(cards, start, pivot - 1)\n",
    "        quickSort(cards, pivot + 1, end)\n",
    "\n",
    "def partition(cards, start=None, end=None) : \n",
    "    if end is None :\n",
    "        end = len(cards) - 1\n",
    "\n",
    "    if start is None :\n",
    "        start = 0\n",
    "    \n",
    "    l, r = start, end - 1\n",
    "\n",
    "    while l < r :\n",
    "        if cards[l] <= cards[end] :\n",
    "            l += 1\n",
    "\n",
    "        elif cards[r] > cards[end] :\n",
    "            r -= 1\n",
    "        \n",
    "        else :\n",
    "            cards[l], cards[r] = cards[r], cards[l]\n",
    "    \n",
    "    if cards[l] > cards[end] :\n",
    "        cards[l], cards[end] = cards[end], cards[l]\n",
    "        return l\n",
    "    else :\n",
    "        return end\n",
    "\n",
    "x = [1, 4, 5, 6, 2, 1, 100, 30, 19, 40, 71, 21, 4, 3, 2, 4, 68, 23, 1, 3, 45, 6]\n",
    "quickSort(x)\n",
    "print(x)\n"
   ]
  },
  {
   "attachments": {},
   "cell_type": "markdown",
   "metadata": {},
   "source": [
    "## Data Structure"
   ]
  },
  {
   "attachments": {},
   "cell_type": "markdown",
   "metadata": {},
   "source": [
    "### Example of Data Structure"
   ]
  },
  {
   "cell_type": "code",
   "execution_count": 2,
   "metadata": {},
   "outputs": [],
   "source": [
    "class user :\n",
    "  def __init__(self, username, name, email) -> None:\n",
    "    self.username = username\n",
    "    self.name = name\n",
    "    self.email = email\n",
    "\n",
    "  def __repr__(self) -> str:\n",
    "    return f\"user(username='{self.username}', name='{self.name}', email='{self.email}')\"\n",
    "\n",
    "  def __str__(self) -> str:\n",
    "    return self.__repr__()\n",
    "\n",
    "\n",
    "class userDataBase:\n",
    "  def __init__(self) -> None:\n",
    "    self.users = []  # ini digunakan untuk menampung input method-method class ini\n",
    "\n",
    "  def insert(self, user):  # ini untuk memasukan variable dengan isi class user, dimana ini akan di sort\n",
    "    i = 0\n",
    "    # kegunaan loop ini untuk naro user baru sesuai dengan abjad username\n",
    "    while i < len(self.users):\n",
    "      # saat username dari insert < username ke-i, maka stop\n",
    "      if self.users[i].username > user.username:\n",
    "        break\n",
    "      i += 1\n",
    "\n",
    "    # i akan dijadikan index penempatan user baru agar ter-sort\n",
    "    self.users.insert(i, user)\n",
    "\n",
    "  def find(self, username):  # ini untuk mencari users dengan menggunakan username\n",
    "    # kita implementasikan algoritma binary search pada method find()\n",
    "    lo = 0\n",
    "    hi = len(self.users) - 1\n",
    "\n",
    "    while (lo <= hi):\n",
    "      mid = (lo + hi) // 2\n",
    "\n",
    "      if self.users[mid].username == username:\n",
    "        return self.users[mid]\n",
    "      elif self.users[mid].username > username:\n",
    "        hi = mid - 1\n",
    "      elif self.users[mid].username < username:\n",
    "        lo = mid + 1\n",
    "\n",
    "    return print(f'{username} tidak ada dalam dataBase')\n",
    "\n",
    "  def update(self, user):  # ini untuk mengganti informasi pada users, dengan menginput class user\n",
    "    target = self.find(user)\n",
    "    target.name, target.username, target.email\n",
    "\n",
    "  def list_all(self):  # ini untuk menampilkan semua database\n",
    "    return self.users\n"
   ]
  },
  {
   "cell_type": "code",
   "execution_count": 3,
   "metadata": {},
   "outputs": [],
   "source": [
    "budi = user('budi', 'budi', 'budi@gmail.com')\n",
    "anto = user('anto', 'anto', 'anto@gmail.com')\n",
    "siti = user('siti', 'siti', 'siti@gmail.com')\n",
    "sugeng = user('sugeng', 'sugeng', 'sugeng@gmail.com')"
   ]
  },
  {
   "cell_type": "code",
   "execution_count": 4,
   "metadata": {},
   "outputs": [],
   "source": [
    "database = userDataBase()\n",
    "\n",
    "database.insert(budi)\n",
    "database.insert(siti)\n",
    "database.insert(anto)\n",
    "database.insert(sugeng)"
   ]
  },
  {
   "cell_type": "code",
   "execution_count": 5,
   "metadata": {},
   "outputs": [
    {
     "name": "stdout",
     "output_type": "stream",
     "text": [
      "al tidak ada dalam dataBase\n"
     ]
    }
   ],
   "source": [
    "orang1 = database.find('al')\n",
    "orang1"
   ]
  },
  {
   "cell_type": "code",
   "execution_count": 6,
   "metadata": {},
   "outputs": [
    {
     "data": {
      "text/plain": [
       "[user(username='anto', name='anto', email='anto@gmail.com'),\n",
       " user(username='budi', name='budi', email='budi@gmail.com'),\n",
       " user(username='siti', name='siti', email='siti@gmail.com'),\n",
       " user(username='sugeng', name='sugeng', email='sugeng@gmail.com')]"
      ]
     },
     "execution_count": 6,
     "metadata": {},
     "output_type": "execute_result"
    }
   ],
   "source": [
    "database.list_all()"
   ]
  },
  {
   "attachments": {},
   "cell_type": "markdown",
   "metadata": {},
   "source": [
    "### Binary Tree"
   ]
  },
  {
   "attachments": {},
   "cell_type": "markdown",
   "metadata": {},
   "source": [
    "#### Class for Binary tree"
   ]
  },
  {
   "cell_type": "code",
   "execution_count": 7,
   "metadata": {},
   "outputs": [],
   "source": [
    "class treeNode :\n",
    "  def __init__(self, key) -> None:\n",
    "    self.key = key\n",
    "    self.left = None\n",
    "    self.right = None"
   ]
  },
  {
   "attachments": {},
   "cell_type": "markdown",
   "metadata": {},
   "source": [
    "#### Function for Change Tuple to binary Tree"
   ]
  },
  {
   "cell_type": "code",
   "execution_count": 8,
   "metadata": {},
   "outputs": [
    {
     "name": "stdout",
     "output_type": "stream",
     "text": [
      "<__main__.treeNode object at 0x000001CE742D2710>\n"
     ]
    }
   ],
   "source": [
    "pohon = ((1, 3, None), 2, ((None, 3, 4), 5, (6, 7, 8)))\n",
    "\n",
    "def tupleToTree(data) :\n",
    "  if isinstance(data, tuple) and len(data) == 3 :\n",
    "    node = treeNode(data[1])\n",
    "    node.left = tupleToTree(data[0])\n",
    "    node.right = tupleToTree(data[2])\n",
    "  elif data is None :\n",
    "    node = None\n",
    "  else :\n",
    "    node = treeNode(data)\n",
    "\n",
    "  return node\n",
    "\n",
    "a = tupleToTree(pohon)\n",
    "print(a)"
   ]
  },
  {
   "attachments": {},
   "cell_type": "markdown",
   "metadata": {},
   "source": [
    "#### Function for Change Binary Tree to Tuple"
   ]
  },
  {
   "cell_type": "code",
   "execution_count": 24,
   "metadata": {},
   "outputs": [
    {
     "name": "stdout",
     "output_type": "stream",
     "text": [
      "((1, 3, None), 2, ((None, 3, 4), 5, (6, 7, 8)))\n"
     ]
    }
   ],
   "source": [
    "def tree_to_tuple(node) :\n",
    "  if isinstance(node, treeNode) :\n",
    "    if node.left is None and node.right is None :\n",
    "      return node.key\n",
    "  \n",
    "  else :\n",
    "    return node\n",
    "  \n",
    "  return (tree_to_tuple(node.left), node.key, tree_to_tuple(node.right))"
   ]
  },
  {
   "attachments": {},
   "cell_type": "markdown",
   "metadata": {},
   "source": [
    "#### Traverse a Binary Tree"
   ]
  },
  {
   "attachments": {},
   "cell_type": "markdown",
   "metadata": {},
   "source": [
    "##### Inorder Traversal"
   ]
  },
  {
   "cell_type": "code",
   "execution_count": 31,
   "metadata": {},
   "outputs": [
    {
     "name": "stdout",
     "output_type": "stream",
     "text": [
      "[1, 3, 2, 3, 4, 5, 6, 7, 8]\n"
     ]
    }
   ],
   "source": [
    "def inorder(node) :\n",
    "  if node is None :\n",
    "    return []\n",
    "  \n",
    "  return inorder(node.left) + [node.key] + inorder(node.right)\n",
    "\n",
    "b = inorder(a)\n",
    "print(b)"
   ]
  },
  {
   "attachments": {},
   "cell_type": "markdown",
   "metadata": {},
   "source": [
    "##### Preorder Traversal"
   ]
  },
  {
   "cell_type": "code",
   "execution_count": 32,
   "metadata": {},
   "outputs": [
    {
     "name": "stdout",
     "output_type": "stream",
     "text": [
      "[2, 3, 1, 5, 3, 4, 7, 6, 8]\n"
     ]
    }
   ],
   "source": [
    "def preorder(node):\n",
    "  if node is None :\n",
    "    return []\n",
    "  \n",
    "  return [node.key] + preorder(node.left) + preorder(node.right)\n",
    "\n",
    "c = preorder(a)\n",
    "print(c)"
   ]
  },
  {
   "attachments": {},
   "cell_type": "markdown",
   "metadata": {},
   "source": [
    "##### Postorder Traversal"
   ]
  },
  {
   "cell_type": "code",
   "execution_count": 33,
   "metadata": {},
   "outputs": [
    {
     "name": "stdout",
     "output_type": "stream",
     "text": [
      "[1, 3, 4, 3, 6, 8, 7, 5, 2]\n"
     ]
    }
   ],
   "source": [
    "def postorder(node) :\n",
    "  if node is None :\n",
    "    return []\n",
    "\n",
    "  return postorder(node.left) + postorder(node.right) + [node.key]\n",
    "\n",
    "d = postorder(a)\n",
    "print(d)"
   ]
  },
  {
   "attachments": {},
   "cell_type": "markdown",
   "metadata": {},
   "source": [
    "#### Depth and Size of Binary Tree"
   ]
  },
  {
   "attachments": {},
   "cell_type": "markdown",
   "metadata": {},
   "source": [
    "##### Depth"
   ]
  },
  {
   "cell_type": "code",
   "execution_count": 34,
   "metadata": {},
   "outputs": [
    {
     "name": "stdout",
     "output_type": "stream",
     "text": [
      "4\n"
     ]
    }
   ],
   "source": [
    "def depth(node) :\n",
    "  if node is None :\n",
    "    return 0\n",
    "  \n",
    "  return 1 + max(depth(node.left), depth(node.right))\n",
    "\n",
    "e = depth(a)\n",
    "print(e)"
   ]
  },
  {
   "attachments": {},
   "cell_type": "markdown",
   "metadata": {},
   "source": [
    "##### Size"
   ]
  },
  {
   "cell_type": "code",
   "execution_count": 43,
   "metadata": {},
   "outputs": [
    {
     "name": "stdout",
     "output_type": "stream",
     "text": [
      "9\n"
     ]
    }
   ],
   "source": [
    "def size(node) :\n",
    "  if node is None:\n",
    "    return 0\n",
    "  \n",
    "  return 1 + size(node.left) + size(node.right)\n",
    "\n",
    "f = size(a)\n",
    "print(f)"
   ]
  },
  {
   "attachments": {},
   "cell_type": "markdown",
   "metadata": {},
   "source": [
    "#### Classifier for Binary Tree"
   ]
  },
  {
   "cell_type": "code",
   "execution_count": 2,
   "metadata": {},
   "outputs": [],
   "source": [
    "class treeNode:\n",
    "  def __init__(self, key) -> None:\n",
    "    self.key = key\n",
    "    self.left = None\n",
    "    self.right = None\n",
    "\n",
    "  def depth(self):\n",
    "    if self is None:\n",
    "      return 0\n",
    "\n",
    "    return 1 + max(treeNode.depth(self.left), treeNode.depth(self.right))\n",
    "\n",
    "  def size(self):\n",
    "    if self is None:\n",
    "      return 0\n",
    "\n",
    "    return 1 + treeNode.size(self.left) + treeNode.size(self.right)\n",
    "  \n",
    "  def inorder(self):\n",
    "    if self is None:\n",
    "      return []\n",
    "\n",
    "    return treeNode.inorder(self.left) + [self.key] + treeNode.inorder(self.right)\n",
    "\n",
    "  def preorder(self):\n",
    "    if self is None:\n",
    "      return []\n",
    "\n",
    "    return [self.key] + treeNode.preorder(self.left) + treeNode.preorder(self.right)\n",
    "\n",
    "  def postorder(self):\n",
    "    if self is None:\n",
    "      return []\n",
    "\n",
    "    return treeNode.postorder(self.left) + treeNode.postorder(self.right) + [self.key]\n",
    "\n",
    "  def tree_to_tuple(self):\n",
    "    if isinstance(self, treeNode):\n",
    "      if self.left is None and self.right is None:\n",
    "        return self.key\n",
    "\n",
    "    else:\n",
    "      return self\n",
    "\n",
    "    return (treeNode.tree_to_tuple(self.left), self.key, treeNode.tree_to_tuple(self.right))\n",
    "  \n",
    "  \n",
    "  @staticmethod\n",
    "  def tupleToTree(data):\n",
    "    if isinstance(data, tuple) and len(data) == 3:\n",
    "      node = treeNode(data[1])\n",
    "      node.left = treeNode.tupleToTree(data[0])\n",
    "      node.right = treeNode.tupleToTree(data[2])\n",
    "    elif data is None:\n",
    "      node = None\n",
    "    else:\n",
    "      node = treeNode(data)\n",
    "\n",
    "    return node\n"
   ]
  },
  {
   "attachments": {},
   "cell_type": "markdown",
   "metadata": {},
   "source": [
    "### Binary Search Tree"
   ]
  },
  {
   "attachments": {},
   "cell_type": "markdown",
   "metadata": {},
   "source": [
    "Syarat pada BST\n",
    "1. component pada `node.left < node.key`\n",
    "1. component pada `node.right > node.key`"
   ]
  },
  {
   "attachments": {},
   "cell_type": "markdown",
   "metadata": {},
   "source": [
    "#### Function For Check in a Binary Tree is a Binary Search Tree"
   ]
  },
  {
   "cell_type": "code",
   "execution_count": 3,
   "metadata": {},
   "outputs": [
    {
     "name": "stdout",
     "output_type": "stream",
     "text": [
      "False\n",
      "CPU times: total: 0 ns\n",
      "Wall time: 0 ns\n"
     ]
    }
   ],
   "source": [
    "def is_bst(root):\n",
    "    def is_bst_helper(node, min_val=float('-inf'), max_val=float('inf')):\n",
    "        # min_val memiliki default parameter - tak hingga\n",
    "        # max_val memiliki default parameter + tak hingga\n",
    "        if not node:\n",
    "            return True\n",
    "        if node.key <= min_val or node.key >= max_val:\n",
    "            # bila node.key <= min_val pada 1 cabang atau node.key >= max_val pada 1 cabang, return False\n",
    "            return False\n",
    "        \n",
    "        return (is_bst_helper(node.left, min_val, node.key) and is_bst_helper(node.right, node.key, max_val))\n",
    "        \"\"\"\n",
    "        pada return kita cek (node.left.key <= min_val atau node.left.key >= node.key) \n",
    "        dan (node.right.key <= node.key atau node.right.key >= max_val), bila True maka return False \n",
    "        \"\"\"\n",
    "    return is_bst_helper(root)\n",
    "\n",
    "pohon = ((1, 3, None), 2, ((None, 3, 4), 5, (6, 7, 8)))\n",
    "\n",
    "a = treeNode.tupleToTree(pohon)\n",
    "\n",
    "bst = is_bst(a) # return False\n",
    "\n",
    "print(bst)"
   ]
  },
  {
   "attachments": {},
   "cell_type": "markdown",
   "metadata": {},
   "source": [
    "#### Data Structure with Binary Search Tree"
   ]
  },
  {
   "cell_type": "code",
   "execution_count": null,
   "metadata": {},
   "outputs": [],
   "source": [
    "class BSTnode :\n",
    "    def __init__(self, key, value=None) -> None:\n",
    "        self.key = key\n",
    "        self.value = value\n",
    "        self.left = None\n",
    "        self.right = None\n",
    "        self.parent = None\n",
    "\n",
    "def insert(node, key, value) :\n",
    "    if node is None :\n",
    "        node = BSTnode(key, value)\n",
    "    elif key < node.key :\n",
    "        node.left = insert(node.left, key, value)\n",
    "        node.left.parent = node\n",
    "    elif key > node.key :\n",
    "        node.right = insert(node.right, key, value)\n",
    "        node.right.parent = node\n",
    "    \n",
    "    return node\n",
    "\n",
    "def find(node, key) :\n",
    "    if node is None :\n",
    "        return None\n",
    "    if node.key == key :\n",
    "        return node\n",
    "    if node.key < key :\n",
    "        return find(node.right, key)\n",
    "    if node.key > key :\n",
    "        return find(node.left, key)\n",
    "    \n",
    "\n",
    "def update(node, key, value) :\n",
    "    if node.key is None :\n",
    "        target = find(node, key)\n",
    "        if target is not None :\n",
    "            target.value = value\n",
    "\n",
    "def list_all(node) :\n",
    "    if node is None:\n",
    "        return []\n",
    "    \n",
    "    return list_all(node.left) + [node.key, node.value] + list_all(node.right)"
   ]
  },
  {
   "attachments": {},
   "cell_type": "markdown",
   "metadata": {},
   "source": [
    "### Hash Table\n",
    "1. kita mempunyai list kosong dengan n None element\n",
    "2. asumsikan kita ingin memasukan string 'al' kedalam list\n",
    "3. kita ubah 'al' kedalam bentuk angka dengan method `ord()`\n",
    "4. `index = ord(string) % n`"
   ]
  },
  {
   "cell_type": "code",
   "execution_count": 8,
   "metadata": {},
   "outputs": [
    {
     "data": {
      "text/plain": [
       "113"
      ]
     },
     "execution_count": 8,
     "metadata": {},
     "output_type": "execute_result"
    }
   ],
   "source": [
    "def get_index(data, string) :\n",
    "    result = 0\n",
    "    for char in string :\n",
    "        num = ord(char)\n",
    "        result += num\n",
    "    \n",
    "    index = result % len(data)\n",
    "    \n",
    "    return index\n",
    "\n",
    "# example\n",
    "data_list = [None] * 1000\n",
    "get_index(data_list, '98')"
   ]
  },
  {
   "attachments": {},
   "cell_type": "markdown",
   "metadata": {},
   "source": [
    "#### Data Structure with Hash Table"
   ]
  },
  {
   "cell_type": "code",
   "execution_count": null,
   "metadata": {},
   "outputs": [],
   "source": [
    "class hashTable:\n",
    "    def __init__(self, max_size=10000) -> None:\n",
    "        self.data = [None] * max_size\n",
    "    \n",
    "    def insert(self, key, value) :\n",
    "        idx = get_index(self.data, key)\n",
    "\n",
    "        self.data[idx] = key, value\n",
    "    \n",
    "    def find(self, key) :\n",
    "        idx = get_index(self.data, key)\n",
    "        kv = self.data[idx]\n",
    "\n",
    "        if kv is None :\n",
    "            return None\n",
    "        else :\n",
    "            key, value = kv\n",
    "            return value\n",
    "    \n",
    "    def update(self, key, value) :\n",
    "        idx = get_index(self.data, key)\n",
    "        self.data[idx] = key, value\n",
    "\n",
    "    def list_all(self) :\n",
    "        return [kv[0] for kv in self.data if kv is not None]"
   ]
  },
  {
   "attachments": {},
   "cell_type": "markdown",
   "metadata": {},
   "source": [
    "#### Handling Collisions in Hash Table with Linear Probing\n",
    "saat kita mempunyai key yang sama, misal 'al' dan 'la' maka saat kita insert mereka akan bertabrakan, maka kita handle dia dengan menggunakan linear probing\n",
    "1. bila saat kita insert suatu key-value pada index `n`, dimana index n telah terisi\n",
    "2. kita akan menaruh key-value tersebut pada `n + 1` \n",
    "3. bila sudah terisi juga, kita akan terus mengulangi step 2 sampai menemukan index kosong\n",
    "4. bila `index == len(list)`, maka index akan kita set ke 0 (`index = 0`)\n",
    "5. lalu kita ulangi lagi langkah 2 sampai menemukan index kosong"
   ]
  },
  {
   "cell_type": "code",
   "execution_count": 10,
   "metadata": {},
   "outputs": [
    {
     "data": {
      "text/plain": [
       "True"
      ]
     },
     "execution_count": 10,
     "metadata": {},
     "output_type": "execute_result"
    }
   ],
   "source": [
    "def get_valid_index(data, key) :\n",
    "    idx = get_index(data, key)\n",
    "\n",
    "    while True :\n",
    "        kv = data[idx]\n",
    "        if kv is None :\n",
    "            return idx\n",
    "        \n",
    "        k, v = kv\n",
    "        if k == kv :\n",
    "            return idx\n",
    "        \n",
    "        idx += 1\n",
    "\n",
    "        if idx == len(data) :\n",
    "            idx = 0\n",
    "\n",
    "list1 = [None] * 1000\n",
    "list1[get_valid_index(list1, 'listen')] = ('listen', 99)\n",
    "get_valid_index(list1, 'silent') == 656\n"
   ]
  },
  {
   "attachments": {},
   "cell_type": "markdown",
   "metadata": {},
   "source": [
    "##### Data Structure with Hash Table (Linear Probing)"
   ]
  },
  {
   "cell_type": "code",
   "execution_count": 11,
   "metadata": {},
   "outputs": [],
   "source": [
    "class probingHashtable:\n",
    "    def __init__(self, max_size=10000) -> None:\n",
    "        self.data = [None] + max_size\n",
    "    \n",
    "    def insert(self, key, value) :\n",
    "        idx = get_valid_index(self.data, key)\n",
    "        self.data[idx] = (key, value)\n",
    "    \n",
    "    def find(self, key) :\n",
    "        idx = get_valid_index(self.data, key)\n",
    "        kv = self.data[idx]\n",
    "\n",
    "        return (None if kv is None else kv[1])\n",
    "    \n",
    "    def update(self, key, value) :\n",
    "        idx = get_valid_index(self.data, key)\n",
    "        self.data[idx] = (key, value)\n",
    "\n",
    "    def list_all(self) :\n",
    "        return [kv[0] for kv in self.data if kv is not None]"
   ]
  },
  {
   "attachments": {},
   "cell_type": "markdown",
   "metadata": {},
   "source": [
    "### Linked List\n",
    "asumsikan kita mempunyai array atau tuple dengan `n` element\n",
    "Linked List salah satu implementasi dari array atau tuple\n",
    "1. pada function `insert()` dengan parameter `root` dan `item`, kita masukan `[0]` element ke dalam temp dimana `[0]` element adalah argument item\n",
    "2. jika `root == None`, maka `root = temp`\n",
    "3. jika tidak, kita buat variable `a` dimana `a` menyimpan `root`. selama `a.next != None`, maka `a` akan diisi dengan `a.next`, lalu setelah `while` loop berhenti `a.next = temp`\n",
    "4. function `insert()` kita `return root`\n",
    "5. pada funtion `tupleToLink()` kita set variable `root` dengan nilai `None`\n",
    "6. kita lakukan `for` loop dimana `i`bernilai `0 -> len(data) - 1`, lalu kita masukan kedalam variable `root` `insert(root, data[i])`\n",
    "7. function `tupleToLink()` akan kita `return root`"
   ]
  },
  {
   "cell_type": "code",
   "execution_count": 4,
   "metadata": {},
   "outputs": [
    {
     "data": {
      "text/plain": [
       "2"
      ]
     },
     "execution_count": 4,
     "metadata": {},
     "output_type": "execute_result"
    }
   ],
   "source": [
    "class linkedList :\n",
    "    def __init__(self, head) -> None:\n",
    "        self.head = head\n",
    "        self.next = None\n",
    "\n",
    "def tupleToLink(data) :\n",
    "    n = len(data)\n",
    "    def insert(root, item) :\n",
    "        temp = linkedList(item)\n",
    "        if root == None :\n",
    "            root = temp\n",
    "        else :\n",
    "            a = root\n",
    "            while a.next != None :\n",
    "                a = a.next\n",
    "            \n",
    "            a.next = temp\n",
    "        \n",
    "        return root\n",
    "\n",
    "    root = None\n",
    "    for i in range(0, n, 1) :\n",
    "        root = insert(root, data[i])\n",
    "    \n",
    "    return root\n",
    "\n",
    "a = (1,2,3,4)\n",
    "linkedlist1 = tupleToLink(a)\n",
    "linkedlist1.head"
   ]
  },
  {
   "attachments": {},
   "cell_type": "markdown",
   "metadata": {},
   "source": [
    "## Dynamic Programming and Memoization"
   ]
  },
  {
   "attachments": {},
   "cell_type": "markdown",
   "metadata": {},
   "source": [
    "### Longest Common Subsequence"
   ]
  },
  {
   "attachments": {},
   "cell_type": "markdown",
   "metadata": {},
   "source": [
    "#### Longest Common Subsequence (Recursive)\n",
    "mencari Longest Common Subsequnce pada 2 `string`, output berupa integers\n",
    "1. kita deklarasikan nested function dengan `recursive()` berada di dalam `lcs_memo()` dengan parameter `lcs_memo` adalah `string1` dan `string2`\n",
    "2. deklarasi empty set variable (`memo`)\n",
    "3. pada `recursive()` kita buat pointer variable (`key`) dengan isi parameter-parameter `recursive()`\n",
    "4. jika `key` ada dalam `memo`, maka return `memo[key]`\n",
    "5. lain jika `idx1 == len(seq1)` atau `idx2 == len(seq2)`, maka `memo[key] = 0`\n",
    "6. lain jika `seq1[idx1] == seq2[idx2]`, maka `memo[key] = 1 + recursive(idx1+1, idx2+2)`\n",
    "7. jika tidak, `memo[key]` akan memiliki nilai maksimal dari `recursive(idx1+1, idx2)` atau `recursive(idx1, idx2+1)`\n",
    "8. kita return `recursive()`"
   ]
  },
  {
   "cell_type": "code",
   "execution_count": 11,
   "metadata": {},
   "outputs": [
    {
     "data": {
      "text/plain": [
       "3"
      ]
     },
     "execution_count": 11,
     "metadata": {},
     "output_type": "execute_result"
    }
   ],
   "source": [
    "# space complexity nya lebih baik\n",
    "def LCS(seq1, seq2, idx1=0, idx2=0) :\n",
    "    if (idx1 == len(seq1)) or (idx2 == len(seq2)) :\n",
    "        return 0\n",
    "    \n",
    "    elif seq1[idx1] == seq2[idx2] :\n",
    "        return 1 + LCS(seq1, seq2, idx1+1, idx2+1)\n",
    "    \n",
    "    else :\n",
    "        option1 = LCS(seq1, seq2, idx1+1, idx2)\n",
    "        option2 = LCS(seq1, seq2, idx1, idx2+1)\n",
    "        return max(option1, option2)\n",
    "\n",
    "a = 'alchemy'\n",
    "b = 'analogy'\n",
    "\n",
    "LCS(a, b)"
   ]
  },
  {
   "cell_type": "code",
   "execution_count": 12,
   "metadata": {},
   "outputs": [
    {
     "data": {
      "text/plain": [
       "2"
      ]
     },
     "execution_count": 12,
     "metadata": {},
     "output_type": "execute_result"
    }
   ],
   "source": [
    "# time complexity nya lebih baik\n",
    "# memoization\n",
    "def lcs_memo(seq1, seq2) :\n",
    "    memo = {}\n",
    "    def recursive(idx1=0, idx2=0) :\n",
    "        key = (idx1, idx2)\n",
    "        if key in memo :\n",
    "            return memo[key]\n",
    "        elif (idx1 == len(seq1)) or (idx2 == len(seq2)) :\n",
    "            memo[key] = 0\n",
    "        elif seq1[idx1] == seq2[idx2] :\n",
    "            memo[key] = 1 + recursive(idx1+1, idx2+1)\n",
    "        else :\n",
    "            memo[key] = max(recursive(idx1+1, idx2), recursive(idx1, idx2+1))\n",
    "        \n",
    "        return memo[key]\n",
    "    \n",
    "    return recursive()\n",
    "\n",
    "lcs_memo(a, b)\n"
   ]
  },
  {
   "attachments": {},
   "cell_type": "markdown",
   "metadata": {},
   "source": [
    "#### Longest Common Subsequence (Iteration)\n",
    "1. kita buat table dengan kolom sebanyak `len(seq1)` dan baris sebanyak `len(seq2)`, value semua table adalah 0\n",
    "2. dengan menggunakana nested for loop, dimana `i` bernilai `1 -> len(seq1)` dan `j` bernilai `1 -> len(seq2)`\n",
    "3. jika `seq1[i - 1] == seq[j - 1]`, maka `lcs_lengths[i][j] = 1 + lcs_lengths[i - 1][j - 1]`\n",
    "4. jika tidak, `lcs_lengths[i][j] =` max nilai dari `lcs_lengths[i][j - 1]` atau `lcs_lengths[i - 1][j]`\n",
    "5. kita return `lcs_lengths[-1][-1]`"
   ]
  },
  {
   "cell_type": "code",
   "execution_count": 2,
   "metadata": {},
   "outputs": [
    {
     "data": {
      "text/plain": [
       "3"
      ]
     },
     "execution_count": 2,
     "metadata": {},
     "output_type": "execute_result"
    }
   ],
   "source": [
    "def lcs_iter(seq1, seq2):\n",
    "    len_seq1, len_seq2 = len(seq1), len(seq2)\n",
    "    lcs_lengths = [[0 for j in range(len_seq2 + 1)]\n",
    "                   for i in range(len_seq1 + 1)]\n",
    "\n",
    "    for i in range(1, len_seq1 + 1):\n",
    "        for j in range(1, len_seq2 + 1):\n",
    "            if seq1[i - 1] == seq2[j - 1]:\n",
    "                lcs_lengths[i][j] = 1 + lcs_lengths[i - 1][j - 1]\n",
    "            else:\n",
    "                lcs_lengths[i][j] = max(\n",
    "                    lcs_lengths[i][j - 1], lcs_lengths[i - 1][j])\n",
    "\n",
    "    return lcs_lengths[-1][-1]\n",
    "\n",
    "lcs_iter('alchemy', 'analogy')"
   ]
  },
  {
   "attachments": {},
   "cell_type": "markdown",
   "metadata": {},
   "source": [
    "### Knapsack Problem"
   ]
  },
  {
   "attachments": {},
   "cell_type": "markdown",
   "metadata": {},
   "source": [
    "#### Knapsack Problem (Recursion)\n",
    "asumsikan kita memiliki banyak benda dengan weight dan profitnya masing-masing, lalu kita akan mengambil beberapa benda dengan capacity max yang kita tentukan\n",
    "1. bila `idx == len(weight)` maka kita return 0 (karena saat `idx == len(weight)` maka tidak ada benda yang kita tinjau untuk dipilih)\n",
    "2. lain jika `weight[idx] > capacity` maka kita return `maxProfit(weight, profit, capacity, idx+1)` (saat `waight[idx] > capacity` kita lihat index selanjutnya)\n",
    "3. jika tidak kita punya 2 pilihan, pilihan pertama `maxProfit(weight, profit, capacity, idx+1)` dan pilihan kedua `profit[idx] + maxProfit(weight, profit, capacity-weight[idx], idx+1)`. lalu kita cari nilai max dari kedua pilihan"
   ]
  },
  {
   "cell_type": "code",
   "execution_count": 3,
   "metadata": {},
   "outputs": [
    {
     "data": {
      "text/plain": [
       "17"
      ]
     },
     "execution_count": 3,
     "metadata": {},
     "output_type": "execute_result"
    }
   ],
   "source": [
    "# asumsi len(wight) == len(profit)\n",
    "\n",
    "def maxProfit(weight, profit, capacity, idx=0) :\n",
    "    if idx == len(weight) :\n",
    "        return 0\n",
    "    elif weight[idx] > capacity :\n",
    "        return maxProfit(weight, profit, capacity, idx+1)\n",
    "    else :\n",
    "        option1 = maxProfit(weight, profit, capacity, idx+1)\n",
    "        option2 = profit[idx] + maxProfit(weight, profit, capacity-weight[idx], idx+1)\n",
    "\n",
    "        return max(option1, option2)\n",
    "\n",
    "\n",
    "a = [1, 4, 6, 2, 4, 5]\n",
    "b = [4, 2, 5, 6, 7, 2]\n",
    "\n",
    "maxProfit(b, a, 15)"
   ]
  },
  {
   "cell_type": "code",
   "execution_count": 6,
   "metadata": {},
   "outputs": [
    {
     "data": {
      "text/plain": [
       "17"
      ]
     },
     "execution_count": 6,
     "metadata": {},
     "output_type": "execute_result"
    }
   ],
   "source": [
    "# menggunakan memoization method\n",
    "\n",
    "def maxProfit_memo(weight, profit, capacity, idx=0) :\n",
    "    memo = {}\n",
    "    key = (idx, capacity)\n",
    "    \n",
    "    if idx == len(weight) :\n",
    "        return 0\n",
    "    \n",
    "    if key in memo :\n",
    "        return memo[key]\n",
    "    elif weight[idx] > capacity :\n",
    "        memo[key] = maxProfit_memo(weight, profit, capacity, idx+1)\n",
    "        return memo[key]\n",
    "    else :\n",
    "        option1 = maxProfit_memo(weight, profit, capacity, idx+1)\n",
    "        option2 = profit[idx] + maxProfit_memo(weight, profit, capacity-weight[idx], idx+1)\n",
    "\n",
    "        memo[key] = max(option1, option2)\n",
    "        return memo[key]\n",
    "\n",
    "\n",
    "a = [1, 4, 6, 2, 4, 5]\n",
    "b = [4, 2, 5, 6, 7, 2]\n",
    "maxProfit_memo(b, a, 15)\n",
    "\n"
   ]
  },
  {
   "attachments": {},
   "cell_type": "markdown",
   "metadata": {},
   "source": [
    "#### Knapsack Problem (Iteration)\n",
    "1. kita buat `table` dengan kolom sebanyak `len(weight)` dan baris sebanyak `capacity`\n",
    "2. kita buat nested for loop dengan `i` bernilai `0 -> n-1` dan `j` bernilai `1 -> capacity`\n",
    "3. di dalam loop, jika `weight[i] > j` maka `table[i+1][j] = table[i][j]`\n",
    "4. jika tidak maka `table[i+1][j] = max(table[i][j], profit[i] + table[i][j-waight[i]])`\n",
    "5. kita return `table[-1][-1]`"
   ]
  },
  {
   "cell_type": "code",
   "execution_count": 3,
   "metadata": {},
   "outputs": [
    {
     "data": {
      "text/plain": [
       "17"
      ]
     },
     "execution_count": 3,
     "metadata": {},
     "output_type": "execute_result"
    }
   ],
   "source": [
    "def maxProfit_iter(weight, profit, capacity) :\n",
    "    n = len(weight)\n",
    "    table = [[0 for i in range(capacity + 1)] for j in range(n+1)]\n",
    "    for i in range(n) :\n",
    "        for j in range(1, capacity + 1) :\n",
    "            if weight[i] > j : \n",
    "                table[i+1][j] = table[i][j]\n",
    "            else :\n",
    "                table[i+1][j] = max(table[i][j], profit[i] + table[i][j - weight[i]])\n",
    "    \n",
    "    return table[-1][-1]\n",
    "\n",
    "a = [1,4,6,2,4,5]\n",
    "b = [4,2,5,6,7,2]\n",
    "maxProfit_iter(b, a, 15)"
   ]
  },
  {
   "attachments": {},
   "cell_type": "markdown",
   "metadata": {},
   "source": [
    "## Graph"
   ]
  },
  {
   "attachments": {},
   "cell_type": "markdown",
   "metadata": {},
   "source": [
    "### Adjacency List\n",
    "method terbaik (menurut aku) buat ngegambarin graph\n",
    "1. buat `self.data` dengan list yang isinya list-list kosong\n",
    "2. buat `for` loop untuk `n1, n2` lalu isi `self.data[n1]` dengan `n2` dan `self.data[n2]` dengan `n1`"
   ]
  },
  {
   "cell_type": "code",
   "execution_count": 1,
   "metadata": {},
   "outputs": [
    {
     "data": {
      "text/plain": [
       "0: [1, 4]\n",
       "1: [0, 4, 3, 2]\n",
       "2: [1, 3]\n",
       "3: [1, 2, 4]\n",
       "4: [0, 1, 3]"
      ]
     },
     "execution_count": 1,
     "metadata": {},
     "output_type": "execute_result"
    }
   ],
   "source": [
    "edges = [[0,1], [0,4], [1,4], [1,3], [1,2], [2,3], [3,4]]\n",
    "\n",
    "class GraphList :\n",
    "    def __init__(self, num_node, edges) -> None:\n",
    "        self.num_node = num_node\n",
    "        self.data = [[] for _ in range(num_node)]\n",
    "        for n1, n2 in edges :\n",
    "            self.data[n1].append(n2)\n",
    "            self.data[n2].append(n1)\n",
    "    \n",
    "    def __repr__(self) -> str:\n",
    "        return '\\n'.join(['{}: {}'.format(n, neighbors) for n, neighbors in enumerate(self.data)])\n",
    "    \n",
    "    def __str__(self) -> str:\n",
    "        return self.__repr__()\n",
    "\n",
    "\n",
    "graph1 = GraphList(5, edges)\n",
    "graph1\n"
   ]
  },
  {
   "cell_type": "code",
   "execution_count": 2,
   "metadata": {},
   "outputs": [
    {
     "name": "stdout",
     "output_type": "stream",
     "text": [
      "[1, 4]\n",
      "[0, 4, 3, 2]\n",
      "[1, 3]\n",
      "[1, 2, 4]\n",
      "[0, 1, 3]\n"
     ]
    }
   ],
   "source": [
    "for node in graph1.data :\n",
    "    print(node)"
   ]
  },
  {
   "attachments": {},
   "cell_type": "markdown",
   "metadata": {},
   "source": [
    "#### Function for Adjacency List"
   ]
  },
  {
   "cell_type": "code",
   "execution_count": 3,
   "metadata": {},
   "outputs": [
    {
     "name": "stdout",
     "output_type": "stream",
     "text": [
      "0: [1, 4]\n",
      "1: [0, 4, 3, 2]\n",
      "2: [1, 3]\n",
      "3: [1, 2, 4]\n",
      "4: [0, 1, 3]\n"
     ]
    }
   ],
   "source": [
    "def adList(num_edge, edges) :\n",
    "    data = [[] for _ in range(num_edge)]\n",
    "    for x1, x2 in edges :\n",
    "        data[x1].append(x2)\n",
    "        data[x2].append(x1)\n",
    "\n",
    "    a = ['{}: {}'.format(n, neighbors) for n, neighbors in enumerate(data)]\n",
    "    for x in a :\n",
    "        print(x)\n",
    "\n",
    "\n",
    "adList(5, edges)"
   ]
  },
  {
   "attachments": {},
   "cell_type": "markdown",
   "metadata": {},
   "source": [
    "### Adjacency Matrix\n",
    "salah satu method untuk ngeliat keterhubungan antara edges\n",
    "1. buat `self.data` sebagai matrix $2 * 2$ dengan semua baris dan kolom berisi 0\n",
    "2. buat `for` loop untuk edge lalu isi matrix tadi dengan `self.data[egde[0]][edge[1]] = 1` dan `self.sata[edge[1]][edge[0]] = 1`"
   ]
  },
  {
   "cell_type": "code",
   "execution_count": 4,
   "metadata": {},
   "outputs": [
    {
     "data": {
      "text/plain": [
       "[[0, 1, 0, 0, 1],\n",
       " [1, 0, 1, 1, 1],\n",
       " [0, 1, 0, 1, 0],\n",
       " [0, 1, 1, 0, 1],\n",
       " [1, 1, 0, 1, 0]]"
      ]
     },
     "execution_count": 4,
     "metadata": {},
     "output_type": "execute_result"
    }
   ],
   "source": [
    "class GraphMatrix :\n",
    "    def __init__(self, num_nodes, edges) -> None:\n",
    "        self.num_nodes = num_nodes\n",
    "        self.data = [[0 for _ in range(num_nodes)] for _ in range(num_nodes)]\n",
    "        for edge in edges :\n",
    "            self.data[edge[0]][edge[1]] = 1\n",
    "            self.data[edge[1]][edge[0]] = 1\n",
    "\n",
    "a = [[0, 1], [0, 4], [1, 4], [1, 3], [1, 2], [2, 3], [3, 4]]\n",
    "\n",
    "graph3 = GraphMatrix(5, a)\n",
    "graph3.data"
   ]
  },
  {
   "attachments": {},
   "cell_type": "markdown",
   "metadata": {},
   "source": [
    "### Breadth First Search\n",
    "BFS menggunakan queue untuk base problem solution nya\n",
    "1. kita buat function `BFS` dengan parameter `graph` dan `root`\n",
    "2. kita inisiasi variable `queue` untuk BFS nya\n",
    "3. kita inisiasi variable `discovered` dengan list `(len(graph.data))` element yang bernilai `False`\n",
    "4. kita ubah `discovered[root] = True` dan kita masukan `root` kedalam `queue`\n",
    "5. kita set variable `idx = 0`\n",
    "6. dengan `while` loop selama `idx < len(graph.data)`, kita inisiasi variable bernama `current` dengan isi `queue[idx]` dan `idx += 1`\n",
    "7. dalam `while` loop kita buat `for` loop, dimana variable `node` dalam `graph.data[current]`. jika `not discovered[node]` (saat `discovered[node] == False`, maka `if` condition bekerja), maka `discovered[node] = True` dan kita masukan `node` ke `queue`\n",
    "8. kita `return queue`"
   ]
  },
  {
   "cell_type": "code",
   "execution_count": 5,
   "metadata": {},
   "outputs": [
    {
     "data": {
      "text/plain": [
       "([3, 1, 2, 4, 0], [2, 1, 1, 0, 1], [1, 3, 3, None, 3])"
      ]
     },
     "execution_count": 5,
     "metadata": {},
     "output_type": "execute_result"
    }
   ],
   "source": [
    "def BFS(graph, root):\n",
    "    queue = [] # kita buat queue kosong\n",
    "    discovered = [False] * len(graph.data) # kita buat list discovered dengan isi False sebanyak len(graph.data)\n",
    "    distence = [None] * len(graph.data) # sama dengan discovered, namun kita isi None\n",
    "    parent = [None] * len(graph.data) # sama dengan distence\n",
    "\n",
    "    discovered[root] = True # node yang udah kita discovered, kita masukin nilai True\n",
    "    queue.append(root) # kita masukin root ke queue\n",
    "    \n",
    "    distence[root] = 0 # distence pas di root nilainya 0\n",
    "    \n",
    "    idx = 0\n",
    "    while idx < len(graph.data) :\n",
    "        current = queue[idx]\n",
    "        idx += 1\n",
    "        \n",
    "        for node in graph.data[current] :\n",
    "            if not discovered[node] : \n",
    "                discovered[node] = True\n",
    "                queue.append(node)\n",
    "                distence[node] = 1 + distence[current] # distence selalu ditambah 1 setelah kita melewati root\n",
    "                parent[node] = current\n",
    "    \n",
    "    return queue, distence, parent\n",
    "\n",
    "BFS(graph1, 3)"
   ]
  },
  {
   "cell_type": "code",
   "execution_count": 6,
   "metadata": {},
   "outputs": [
    {
     "data": {
      "text/plain": [
       "([5, 4, 2, 3, 0, 1, 6, 7],\n",
       " [3, 3, 2, 2, 1, 0, 4, 4],\n",
       " [2, 3, 4, 4, 5, None, 1, 1])"
      ]
     },
     "execution_count": 6,
     "metadata": {},
     "output_type": "execute_result"
    }
   ],
   "source": [
    "x = [[0,1],[0,2],[1,3],[1,6],[1,7],[2,3],[2,4],[3,4],[4,5],[6,7]]\n",
    "graphcoba = GraphList(8,x)\n",
    "BFS(graphcoba, 5)"
   ]
  },
  {
   "attachments": {},
   "cell_type": "markdown",
   "metadata": {},
   "source": [
    "### Depth First Search\n",
    "DFS menggunakan stack untuk base problem solutionnya\n",
    "1. kita buat function `DFS` dengan parameter `graph` dan `root`\n",
    "2. kita buat variable `stack` dengan isi list kosong dan variable `discovered` dengan list `(len(graph.data))` element yang bernilai `False`\n",
    "3. kita masukan `root` kedalam `stack`\n",
    "4. kita buat variable `result` dengan list kosong\n",
    "5. dengan `while` loop selama `len(stack) > 0`, kita buat variable `current` dengan isi `stack[-1]` (ini fungsi dari `.pop()`)\n",
    "6. di dalam `while` loop kita buat `if` condition, bila `not discovered[current]` maka `discovered[current] = True` dan kita masukan `current` ke dalam `result`\n",
    "7. di dalam `if` condition tadi kita buat `for` loop dengan variable `node` di dalam `graph.data[current]`\n",
    "8. pada `for` loop kita buat `if` condition, jika `not discovered[node]` maka kita masukan `node` ke dalam `stack`\n",
    "9. kita `return result`  "
   ]
  },
  {
   "cell_type": "code",
   "execution_count": 7,
   "metadata": {},
   "outputs": [
    {
     "data": {
      "text/plain": [
       "[3, 4, 1, 2, 0]"
      ]
     },
     "execution_count": 7,
     "metadata": {},
     "output_type": "execute_result"
    }
   ],
   "source": [
    "def DFS(graph, root) :\n",
    "    stack = [] # kita buat stack\n",
    "    discovered = [False] * len(graph.data)\n",
    "\n",
    "    stack.append(root)\n",
    "\n",
    "    result = []\n",
    "    while len(stack) > 0 :\n",
    "        current = stack.pop() # current berisi stack[-1]\n",
    "        if not discovered[current] : # saat discovered masih berisi False\n",
    "            discovered[current] = True\n",
    "            result.append(current) # masukin current ke result\n",
    "            for node in graph.data[current] :\n",
    "                if not discovered[node] :\n",
    "                    stack.append(node)\n",
    "\n",
    "    return result\n",
    "\n",
    "\n",
    "DFS(graph1, 3)"
   ]
  },
  {
   "attachments": {},
   "cell_type": "markdown",
   "metadata": {},
   "source": [
    "#### Aplication of DFS Function"
   ]
  },
  {
   "cell_type": "code",
   "execution_count": 10,
   "metadata": {},
   "outputs": [
    {
     "data": {
      "text/plain": [
       "[[0, 3, 0, 0, 3, 3],\n",
       " [0, 3, 0, 3, 3, 0],\n",
       " [3, 3, 3, 3, 0, 1],\n",
       " [0, 0, 0, 0, 1, 0]]"
      ]
     },
     "execution_count": 10,
     "metadata": {},
     "output_type": "execute_result"
    }
   ],
   "source": [
    "def solution(matrix, start_row, start_col, new_num=2) :\n",
    "    row = len(matrix)\n",
    "    col = len(matrix[0])\n",
    "    if matrix[start_row][start_col] == 0 :\n",
    "        return matrix\n",
    "    \n",
    "    def DFS(r,c) :\n",
    "        if matrix[r][c] == 1 :\n",
    "            matrix[r][c] = new_num\n",
    "        \n",
    "            if r+1 < row :\n",
    "                DFS(r+1,c)\n",
    "            if r >= 1 :                \n",
    "                DFS(r-1,c)\n",
    "            if c+1 < col:\n",
    "                DFS(r,c+1)\n",
    "            if c >= 1 :\n",
    "                DFS(r,c-1)\n",
    "        \n",
    "        return matrix\n",
    "\n",
    "    DFS(start_row,start_col)\n",
    "    \n",
    "    return matrix\n",
    "\n",
    "a = [[0,1,0,0,1,1],[0,1,0,1,1,0],[1,1,1,1,0,1],[0,0,0,0,1,0]]\n",
    "solution(a, 2, 1, 3)\n"
   ]
  },
  {
   "attachments": {},
   "cell_type": "markdown",
   "metadata": {},
   "source": [
    "### Universal Graph Classifier"
   ]
  },
  {
   "cell_type": "code",
   "execution_count": 1,
   "metadata": {},
   "outputs": [],
   "source": [
    "class Graph :\n",
    "    def __init__(self, num_nodes, edges, weighted=False, directed=False) -> None:\n",
    "        self.num_nodes = num_nodes\n",
    "        self.weighted = weighted\n",
    "        self.directed =directed\n",
    "        self.data = [[] for _ in range(self.num_nodes)]\n",
    "        self.weight = [[] for _ in range(self.num_nodes)]\n",
    "        for edge in edges :\n",
    "            if self.weighted :\n",
    "                n1, n2, weight = edge\n",
    "                self.data[n1].append(n2)\n",
    "                self.weight[n1].append(weight)\n",
    "                if not directed :\n",
    "                    self.data[n2].append(n1)\n",
    "                    self.weight[n2].append(weight)\n",
    "            else :\n",
    "                n1, n2 = edge\n",
    "                self.data[n1].append(n2)\n",
    "                if not directed :\n",
    "                    self.data[n2].append(n1)\n",
    "    \n",
    "    def __repr__(self) -> str:\n",
    "        result = \"\"\n",
    "        if self.weighted :\n",
    "            for i, (nodes, weight) in enumerate(zip(self.data, self.weight)) :\n",
    "                result += '{}: {}\\n'.format(i, list(zip(nodes, weight)))\n",
    "        else :\n",
    "            for i, nodes in enumerate(self.data) :\n",
    "                result += '{}: {}\\n'.format(i, nodes)\n",
    "        \n",
    "        return result\n",
    "\n",
    "    def __str__(self) -> str:\n",
    "        return self.__repr__()\n"
   ]
  },
  {
   "attachments": {},
   "cell_type": "markdown",
   "metadata": {},
   "source": [
    "### Dijkstra Algorithm\n",
    "mencari sortest path dari suatu node ke node lain pada wighted-directed graph atau weighted-undirected graph"
   ]
  },
  {
   "cell_type": "code",
   "execution_count": 19,
   "metadata": {},
   "outputs": [
    {
     "data": {
      "text/plain": [
       "(11, [2, None, 6, None, 2, 6, None])"
      ]
     },
     "execution_count": 19,
     "metadata": {},
     "output_type": "execute_result"
    }
   ],
   "source": [
    "def updateDistence(graph, current, distence, parent=None) :\n",
    "    neighbors = graph.data[current]\n",
    "    weights = graph.weight[current]\n",
    "    for i, node in enumerate(neighbors) :\n",
    "        weight = weights[i]\n",
    "        if distence[current] + weight < distence[node] :\n",
    "            distence[node] = distence[current] + weight\n",
    "            if parent :\n",
    "                parent[node] = current\n",
    "\n",
    "def pickNextNode(distence, visited) :\n",
    "    min_distence = float('inf')\n",
    "    min_node = None\n",
    "    for node in range(len(distence)) :\n",
    "        if not visited[node] and distence[node] < min_distence :\n",
    "            min_node = node\n",
    "            min_distence = distence[node]\n",
    "\n",
    "    return min_node\n",
    "\n",
    "def sortestPath(graph, source, target) :\n",
    "    visited = [False] * len(graph.data)\n",
    "    distence = [float('inf')] * len(graph.data)\n",
    "    parent = [None] * len(graph.data)\n",
    "    queue = []\n",
    "\n",
    "    distence[source] = 0\n",
    "    queue.append(source)\n",
    "\n",
    "    idx = 0 \n",
    "    while idx < len(queue) :\n",
    "        current = queue[idx]\n",
    "        visited[current] = True\n",
    "        idx += 1\n",
    "        updateDistence(graph, current, distence, parent)\n",
    "        next_node = pickNextNode(distence, visited)\n",
    "        if next_node :\n",
    "            queue.append(next_node)\n",
    "    \n",
    "    return distence[target], parent\n",
    "\n",
    "edges6 = [[0,1,2],[1,4,3],[1,6,11],[2,5,4],[2,4,7],\n",
    "          [2,0,1],[3,4,1],[3,5,5],[4,3,1],\n",
    "          [4,1,3],[5,2,4],[6,5,8],[6,2,4]]\n",
    "\n",
    "graphcoba3 = Graph(7, edges6, True, True)\n",
    "sortestPath(graphcoba3, 6, 4)"
   ]
  }
 ],
 "metadata": {
  "kernelspec": {
   "display_name": "venv",
   "language": "python",
   "name": "python3"
  },
  "language_info": {
   "codemirror_mode": {
    "name": "ipython",
    "version": 3
   },
   "file_extension": ".py",
   "mimetype": "text/x-python",
   "name": "python",
   "nbconvert_exporter": "python",
   "pygments_lexer": "ipython3",
   "version": "3.11.1"
  },
  "vscode": {
   "interpreter": {
    "hash": "ca731cc49b56a2a387c427db40cfafb0cfb64dc06ff7949feefb000c15eee77a"
   }
  }
 },
 "nbformat": 4,
 "nbformat_minor": 2
}
