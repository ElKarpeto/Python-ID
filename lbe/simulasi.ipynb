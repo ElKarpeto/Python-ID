{
 "cells": [
  {
   "cell_type": "markdown",
   "metadata": {},
   "source": [
    "# Simulasi Stok Barang"
   ]
  },
  {
   "cell_type": "code",
   "execution_count": 1,
   "metadata": {},
   "outputs": [],
   "source": [
    "import numpy as np\n",
    "import pandas as pd\n",
    "from matplotlib import pyplot as plt\n",
    "import seaborn as sns"
   ]
  },
  {
   "cell_type": "markdown",
   "metadata": {},
   "source": [
    "## Set Nilai-Nilai Awal"
   ]
  },
  {
   "cell_type": "code",
   "execution_count": 5,
   "metadata": {},
   "outputs": [],
   "source": [
    "np.random.seed(0)\n",
    "total_hari = 10000\n",
    "harga_beli = 150\n",
    "harga_jual = 275\n",
    "harga_penyimpanan = 10\n",
    "average_penjualan = 145\n",
    "penjualan_hari = np.random.exponential(average_penjualan, total_hari).astype(int)\n",
    "max_waktu_order = 3\n",
    "waktu_order = np.random.randint(1, max_waktu_order + 1, total_hari).astype(int)\n"
   ]
  },
  {
   "cell_type": "markdown",
   "metadata": {},
   "source": [
    "## Simulasi"
   ]
  },
  {
   "cell_type": "markdown",
   "metadata": {},
   "source": [
    "#### Asumsi\n",
    "1. saat hari pertama, stok yang ada sama dengan jumlah pembelian dihari pertama\n",
    "2. barang yang dipesan dibayarkan setelah barang sampai, sehingga ketika masih ada pesanan diluar hari maksimum maka tidak dibayarkan\n",
    "3. ketika stok $\\geq$ pembelian dihari tersebut, maka semua stok akan disimpan\n"
   ]
  },
  {
   "cell_type": "markdown",
   "metadata": {},
   "source": [
    "#### Flowchart\n",
    "\n",
    "<img src=\"./Flowchart LBE.jpg\" alt=\"Flowchart\" style=\"width: 40%; height: 40%;\"/>"
   ]
  },
  {
   "cell_type": "markdown",
   "metadata": {},
   "source": [
    "#### Code"
   ]
  },
  {
   "cell_type": "code",
   "execution_count": 6,
   "metadata": {},
   "outputs": [
    {
     "name": "stdout",
     "output_type": "stream",
     "text": [
      "Best Strategy: Order every 1 days with quantity 115\n",
      "Total Profit: 117232765\n",
      "Total Days: 10000\n",
      "Average Profit per Day: 11723.28\n"
     ]
    }
   ],
   "source": [
    "\n",
    "def simulasi(freq_order:int, banyak_order:int) -> int :\n",
    "    profit = 0\n",
    "    tunggu_order = np.zeros(total_hari + max_waktu_order, dtype=int)\n",
    "    stok = 0\n",
    "\n",
    "    for day in range(total_hari) :\n",
    "        if (day == 0) :\n",
    "            stok = penjualan_hari[day]\n",
    "        \n",
    "        if (stok >= penjualan_hari[day]) :\n",
    "            profit += (penjualan_hari[day] * harga_jual)\n",
    "            stok -= penjualan_hari[day]\n",
    "            profit -= (stok * harga_penyimpanan)\n",
    "        else :\n",
    "            profit += (stok * harga_jual)\n",
    "            stok = 0\n",
    "\n",
    "        if (tunggu_order[day] != 0) :\n",
    "            stok += (tunggu_order[day] * banyak_order)\n",
    "            profit -= (tunggu_order[day] * banyak_order * harga_beli)\n",
    "            \n",
    "        if (day % freq_order == 0) :\n",
    "            tunggu_order[waktu_order[day] + day] += 1\n",
    "            \n",
    "    return profit\n",
    "\n",
    "best_profit = float('-inf')\n",
    "best_strategy = None\n",
    "\n",
    "for order_frequency in range(1, 251, 1):\n",
    "    for order_quantity in range(1, 1001, 2):\n",
    "        profit = simulasi(order_frequency, order_quantity)\n",
    "        if profit > best_profit:\n",
    "            best_profit = profit\n",
    "            best_strategy = (order_frequency, order_quantity)\n",
    "\n",
    "average_profit = best_profit / total_hari\n",
    "\n",
    "print(f\"Best Strategy: Order every {best_strategy[0]} days with quantity {best_strategy[1]}\")\n",
    "print(f\"Total Profit: {best_profit}\")\n",
    "print(f\"Total Days: {total_hari}\")\n",
    "print(f\"Average Profit per Day: {average_profit:.2f}\")"
   ]
  }
 ],
 "metadata": {
  "kernelspec": {
   "display_name": "Python 3",
   "language": "python",
   "name": "python3"
  },
  "language_info": {
   "codemirror_mode": {
    "name": "ipython",
    "version": 3
   },
   "file_extension": ".py",
   "mimetype": "text/x-python",
   "name": "python",
   "nbconvert_exporter": "python",
   "pygments_lexer": "ipython3",
   "version": "3.10.12"
  }
 },
 "nbformat": 4,
 "nbformat_minor": 2
}
