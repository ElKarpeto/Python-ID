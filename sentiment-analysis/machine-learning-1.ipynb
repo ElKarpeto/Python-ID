{
 "cells": [
  {
   "attachments": {},
   "cell_type": "markdown",
   "metadata": {},
   "source": [
    "# Machine Learning (Sentiment Analysis)"
   ]
  },
  {
   "attachments": {},
   "cell_type": "markdown",
   "metadata": {},
   "source": [
    "### Load Data"
   ]
  },
  {
   "cell_type": "code",
   "execution_count": 1,
   "metadata": {},
   "outputs": [],
   "source": [
    "class Sentiment: # Class untuk sentiment\n",
    "  POSITIVE = 'POSITIVE'\n",
    "  NEGATIVE = 'NEGATIVE'\n",
    "\n",
    "class Review: # class untuk mempermudah kita dalam mendefinisikan data\n",
    "  def __init__(self, text, score) -> None:\n",
    "    self.text = text\n",
    "    self.score = score\n",
    "    self.sentiment = self.get_sentiment()\n",
    "\n",
    "  def get_sentiment(self): #function untuk ngubah 1 == POSITIVE dan 0 == NEGATIVE\n",
    "    if (self.score == 1) :\n",
    "      return Sentiment.POSITIVE\n",
    "    else :\n",
    "      return Sentiment.NEGATIVE"
   ]
  },
  {
   "cell_type": "code",
   "execution_count": 2,
   "metadata": {},
   "outputs": [
    {
     "name": "stdout",
     "output_type": "stream",
     "text": [
      "NEGATIVE\n"
     ]
    }
   ],
   "source": [
    "import pandas as pd\n",
    "import numpy as np\n",
    "\n",
    "# upload data\n",
    "direc = 'movie.csv' # ini ubah sesuai sama nama file yang kamu simpen (e.g kalo aku \"movie.csv\")\n",
    "data = pd.read_csv(direc)\n",
    "\n",
    "# bikin loop untuk masukin tiap-tiap baris ke objek\n",
    "reviews = []\n",
    "for i in range(0, 40000):\n",
    "  reviews.append(Review(data.iloc[i, 0], data.iloc[i, 1]))\n",
    "\n",
    "print(reviews[0].sentiment)\n",
    "\n"
   ]
  },
  {
   "attachments": {},
   "cell_type": "markdown",
   "metadata": {},
   "source": [
    "### Preparation For Model"
   ]
  },
  {
   "cell_type": "code",
   "execution_count": 3,
   "metadata": {},
   "outputs": [],
   "source": [
    "# ini untuk split data kita jadi 2 bagian, ada training data sama test data\n",
    "from sklearn.model_selection import train_test_split\n",
    "\n",
    "training, test = train_test_split(reviews, test_size=0.33, random_state=42)"
   ]
  },
  {
   "cell_type": "code",
   "execution_count": 4,
   "metadata": {},
   "outputs": [],
   "source": [
    "# deklarasi variabel untuk ngebuat model nantinya\n",
    "train_x = [x.text for x in training]\n",
    "train_y = [x.sentiment for x in training]\n",
    "\n",
    "test_x = [x.text for x in test]\n",
    "test_y = [x.sentiment for x in test]"
   ]
  },
  {
   "attachments": {},
   "cell_type": "markdown",
   "metadata": {},
   "source": [
    "### Bag of Words"
   ]
  },
  {
   "cell_type": "code",
   "execution_count": 5,
   "metadata": {},
   "outputs": [],
   "source": [
    "# untuk ngubah kata dalam kalimat-kalimat kita jadi bentuk vektor (isinya cuman 1 dan 0)\n",
    "from sklearn.feature_extraction.text import CountVectorizer, TfidfVectorizer\n",
    "\n",
    "vectorizer = TfidfVectorizer()\n",
    "\n",
    "train_x_vectors = vectorizer.fit_transform(train_x)\n",
    "test_x_vectors = vectorizer.transform(test_x)"
   ]
  },
  {
   "attachments": {},
   "cell_type": "markdown",
   "metadata": {},
   "source": [
    "### Classifier"
   ]
  },
  {
   "attachments": {},
   "cell_type": "markdown",
   "metadata": {},
   "source": [
    "#### Linear SVM"
   ]
  },
  {
   "cell_type": "code",
   "execution_count": 6,
   "metadata": {},
   "outputs": [],
   "source": [
    "# metode ini lebih bagus, tapi ngebutuhin waktu yang agak lama (mungkin kalo PC nya bagus bisa lebih cepet)\n",
    "\n",
    "# from sklearn.svm import SVC\n",
    "\n",
    "# clf_svm = SVC(kernel='linear')\n",
    "# clf_svm.fit(train_x_vectors, train_y)\n",
    "\n",
    "# clf_svm.predict(test_x_vectors[0])"
   ]
  },
  {
   "attachments": {},
   "cell_type": "markdown",
   "metadata": {},
   "source": [
    "#### Decision Tree "
   ]
  },
  {
   "cell_type": "code",
   "execution_count": 7,
   "metadata": {},
   "outputs": [],
   "source": [
    "# metode ini kurang baik menurut aku, karna dengan waktu yang relatif lama tapi hasilnya kurang memuaskan\n",
    "\n",
    "# from sklearn.tree import DecisionTreeClassifier\n",
    "\n",
    "# clf_dec = DecisionTreeClassifier()\n",
    "# clf_dec.fit(train_x_vectors, train_y)\n",
    "\n",
    "# clf_dec.predict(test_x_vectors[0])\n"
   ]
  },
  {
   "attachments": {},
   "cell_type": "markdown",
   "metadata": {},
   "source": [
    "#### Logistic Regression "
   ]
  },
  {
   "cell_type": "code",
   "execution_count": 8,
   "metadata": {},
   "outputs": [
    {
     "data": {
      "text/plain": [
       "array(['NEGATIVE'], dtype='<U8')"
      ]
     },
     "execution_count": 8,
     "metadata": {},
     "output_type": "execute_result"
    }
   ],
   "source": [
    "# metode ini dipilih karna dengan waktu yang singkat, metode ini nilainya hampir bisa menyamai SVM\n",
    "\n",
    "from sklearn.linear_model import LogisticRegression\n",
    "\n",
    "clf_log = LogisticRegression()\n",
    "clf_log.fit(train_x_vectors, train_y)\n",
    "\n",
    "clf_log.predict(test_x_vectors[0])\n"
   ]
  },
  {
   "attachments": {},
   "cell_type": "markdown",
   "metadata": {},
   "source": [
    "### Evaluation"
   ]
  },
  {
   "cell_type": "code",
   "execution_count": 9,
   "metadata": {},
   "outputs": [
    {
     "name": "stdout",
     "output_type": "stream",
     "text": [
      "0.8938636363636364\n"
     ]
    }
   ],
   "source": [
    "# ini cuman untuk evaluasi aja (ngeliat nilainya)\n",
    "\n",
    "# print(clf_svm.score(test_x_vectors, test_y))\n",
    "# print(clf_dec.score(test_x_vectors, test_y))\n",
    "print(clf_log.score(test_x_vectors, test_y))"
   ]
  },
  {
   "cell_type": "code",
   "execution_count": 10,
   "metadata": {},
   "outputs": [
    {
     "name": "stdout",
     "output_type": "stream",
     "text": [
      "[0.89537749 0.89230533]\n"
     ]
    }
   ],
   "source": [
    "# ini cuman untuk ngeliat nilai-nilainya aja, nilai akurasi dari POSITIVE sama NEGATIVE\n",
    "\n",
    "from sklearn.metrics import f1_score\n",
    "\n",
    "# print(f1_score(test_y, clf_svm.predict(test_x_vectors), average=None,\n",
    "        #  labels=[Sentiment.POSITIVE, Sentiment.NEGATIVE]))\n",
    "# print(f1_score(test_y, clf_dec.predict(test_x_vectors), average=None,\n",
    "        #        labels=[Sentiment.POSITIVE, Sentiment.NEGATIVE]))\n",
    "print(f1_score(test_y, clf_log.predict(test_x_vectors), average=None,\n",
    "               labels=[Sentiment.POSITIVE, Sentiment.NEGATIVE]))\n"
   ]
  },
  {
   "attachments": {},
   "cell_type": "markdown",
   "metadata": {},
   "source": [
    "## Confusion Matrix"
   ]
  },
  {
   "cell_type": "code",
   "execution_count": 11,
   "metadata": {},
   "outputs": [
    {
     "data": {
      "text/plain": [
       "<AxesSubplot: >"
      ]
     },
     "execution_count": 11,
     "metadata": {},
     "output_type": "execute_result"
    },
    {
     "data": {
      "image/png": "[encoded data removed]",
      "text/plain": [
       "<Figure size 640x480 with 2 Axes>"
      ]
     },
     "metadata": {},
     "output_type": "display_data"
    }
   ],
   "source": [
    "# ini untuk ngeliat kecocokan persebaran data dari data test kita (pake matrix)\n",
    "\n",
    "from sklearn.metrics import confusion_matrix\n",
    "import matplotlib as plt\n",
    "import seaborn as sn\n",
    "\n",
    "y_pred = clf_log.predict(test_x_vectors)\n",
    "\n",
    "label = [Sentiment.POSITIVE, Sentiment.NEGATIVE]\n",
    "\n",
    "cm = confusion_matrix(test_y, y_pred, labels=label)\n",
    "df_cm = pd.DataFrame(cm, index=label, columns=label)\n",
    "\n",
    "sn.heatmap(df_cm, annot=True, fmt='d')"
   ]
  },
  {
   "attachments": {},
   "cell_type": "markdown",
   "metadata": {},
   "source": [
    "## Try Our Sentiment Analysis"
   ]
  },
  {
   "cell_type": "code",
   "execution_count": 17,
   "metadata": {},
   "outputs": [
    {
     "name": "stdout",
     "output_type": "stream",
     "text": [
      "POSITIVE\n"
     ]
    }
   ],
   "source": [
    "# masukin kata yang kita mau (karna datanya dari IMDb, jadi mungkin lebih bagus kalo tentang film-film gitu)\n",
    "# tinggal ubah kalimatnya (inget!! formatnya harus string jangan sampe lupa sama (\"\") dan pake bahasa inggris)\n",
    "test_data = [\"i am a coolest person in the world\"]\n",
    "\n",
    "new_test = vectorizer.transform(test_data)\n",
    "\n",
    "ans_array = clf_log.predict(new_test)\n",
    "\n",
    "print(ans_array[0])"
   ]
  }
 ],
 "metadata": {
  "kernelspec": {
   "display_name": "venv",
   "language": "python",
   "name": "python3"
  },
  "language_info": {
   "codemirror_mode": {
    "name": "ipython",
    "version": 3
   },
   "file_extension": ".py",
   "mimetype": "text/x-python",
   "name": "python",
   "nbconvert_exporter": "python",
   "pygments_lexer": "ipython3",
   "version": "3.11.1"
  },
  "orig_nbformat": 4,
  "vscode": {
   "interpreter": {
    "hash": "ca731cc49b56a2a387c427db40cfafb0cfb64dc06ff7949feefb000c15eee77a"
   }
  }
 },
 "nbformat": 4,
 "nbformat_minor": 2
}
